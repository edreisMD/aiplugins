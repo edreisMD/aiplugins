{
  "cells": [
    {
      "cell_type": "markdown",
      "id": "ba5f8741",
      "metadata": {
        "id": "ba5f8741"
      },
      "source": [
        "# Plugin Retriever - Plug and Plai (Clean Version)\n",
        "### Retrieve the optimal plugin to use with LLMs based on the user's message\n",
        "\n",
        "[![Open In Colab](https://colab.research.google.com/assets/colab-badge.svg)](https://colab.research.google.com/github/edreisMD/plugnplai/blob/main/docs/examples/plugin_retriever_with_langchain_agent_clean_version.ipynb)"
      ]
    },
    {
      "cell_type": "markdown",
      "id": "qVBZWrV9B6L9",
      "metadata": {
        "id": "qVBZWrV9B6L9"
      },
      "source": [
        "This notebook builds upon the idea of LangChain [tool retrieval](custom_agent_with_plugin_retrieval.html), but pulls all tools from `plugnplai` - a directory of AI Plugins. And abstracts the the instantiation of the vector database (plugin_retriever)."
      ]
    },
    {
      "cell_type": "markdown",
      "id": "fea4812c",
      "metadata": {
        "id": "fea4812c"
      },
      "source": [
        "## Set up environment"
      ]
    },
    {
      "cell_type": "code",
      "execution_count": null,
      "id": "OKr4jRvDv4IJ",
      "metadata": {
        "colab": {
          "base_uri": "https://localhost:8080/"
        },
        "id": "OKr4jRvDv4IJ",
        "outputId": "1b9e7d82-0bc4-4f0d-986d-d9477d56cca2"
      },
      "outputs": [
        {
          "name": "stdout",
          "output_type": "stream",
          "text": [
            "\u001b[2K     \u001b[90m━━━━━━━━━━━━━━━━━━━━━━━━━━━━━━━━━━━━━━━━\u001b[0m \u001b[32m71.9/71.9 kB\u001b[0m \u001b[31m2.1 MB/s\u001b[0m eta \u001b[36m0:00:00\u001b[0m\n",
            "\u001b[2K     \u001b[90m━━━━━━━━━━━━━━━━━━━━━━━━━━━━━━━━━━━━━━━━\u001b[0m \u001b[32m62.5/62.5 kB\u001b[0m \u001b[31m3.8 MB/s\u001b[0m eta \u001b[36m0:00:00\u001b[0m\n",
            "\u001b[2K     \u001b[90m━━━━━━━━━━━━━━━━━━━━━━━━━━━━━━━━━━━━━━\u001b[0m \u001b[32m756.3/756.3 kB\u001b[0m \u001b[31m19.7 MB/s\u001b[0m eta \u001b[36m0:00:00\u001b[0m\n",
            "\u001b[2K     \u001b[90m━━━━━━━━━━━━━━━━━━━━━━━━━━━━━━━━━━━━━━━━\u001b[0m \u001b[32m1.7/1.7 MB\u001b[0m \u001b[31m19.9 MB/s\u001b[0m eta \u001b[36m0:00:00\u001b[0m\n",
            "\u001b[2K     \u001b[90m━━━━━━━━━━━━━━━━━━━━━━━━━━━━━━━━━━━━━━━━\u001b[0m \u001b[32m17.6/17.6 MB\u001b[0m \u001b[31m18.8 MB/s\u001b[0m eta \u001b[36m0:00:00\u001b[0m\n",
            "\u001b[2K     \u001b[90m━━━━━━━━━━━━━━━━━━━━━━━━━━━━━━━━━━━━━━━━\u001b[0m \u001b[32m90.0/90.0 kB\u001b[0m \u001b[31m3.7 MB/s\u001b[0m eta \u001b[36m0:00:00\u001b[0m\n",
            "\u001b[2K     \u001b[90m━━━━━━━━━━━━━━━━━━━━━━━━━━━━━━━━━━━━━━━━\u001b[0m \u001b[32m1.0/1.0 MB\u001b[0m \u001b[31m22.2 MB/s\u001b[0m eta \u001b[36m0:00:00\u001b[0m\n",
            "\u001b[2K     \u001b[90m━━━━━━━━━━━━━━━━━━━━━━━━━━━━━━━━━━━━━━━\u001b[0m \u001b[32m149.6/149.6 kB\u001b[0m \u001b[31m7.7 MB/s\u001b[0m eta \u001b[36m0:00:00\u001b[0m\n",
            "\u001b[2K     \u001b[90m━━━━━━━━━━━━━━━━━━━━━━━━━━━━━━━━━━━━━━━\u001b[0m \u001b[32m268.8/268.8 kB\u001b[0m \u001b[31m5.6 MB/s\u001b[0m eta \u001b[36m0:00:00\u001b[0m\n",
            "\u001b[2K     \u001b[90m━━━━━━━━━━━━━━━━━━━━━━━━━━━━━━━━━━━━━━━\u001b[0m \u001b[32m114.5/114.5 kB\u001b[0m \u001b[31m4.1 MB/s\u001b[0m eta \u001b[36m0:00:00\u001b[0m\n",
            "\u001b[2K     \u001b[90m━━━━━━━━━━━━━━━━━━━━━━━━━━━━━━━━━━━━━━━\u001b[0m \u001b[32m49.1/49.1 kB\u001b[0m \u001b[31m814.5 kB/s\u001b[0m eta \u001b[36m0:00:00\u001b[0m\n",
            "\u001b[?25h"
          ]
        }
      ],
      "source": [
        "!pip install plugnplai -q"
      ]
    },
    {
      "cell_type": "code",
      "execution_count": null,
      "id": "EiqnqramMcth",
      "metadata": {
        "id": "EiqnqramMcth"
      },
      "outputs": [],
      "source": [
        "import os\n",
        "os.environ[\"OPENAI_API_KEY\"] = \"YOUR_OPENAI_KEY\" # Copy your OpenAI Key from https://platform.openai.com/account/api-keys"
      ]
    },
    {
      "cell_type": "markdown",
      "id": "17362717",
      "metadata": {
        "id": "17362717"
      },
      "source": [
        "## Define the Plugins Retriever\n"
      ]
    },
    {
      "cell_type": "markdown",
      "id": "O1bItyu2EDzo",
      "metadata": {
        "id": "O1bItyu2EDzo"
      },
      "source": [
        "Initialize the Plugins Retriever in one line of code. This function will read the plugins manifests, create embeddings and index them in the vector database.\n",
        "\n",
        "This is an abstraction over the plugin_retriever presented on the [LangChain Plugin Retrieval example](https://python.langchain.com/en/latest/use_cases/agents/custom_agent_with_plugin_retrieval_using_plugnplai.html)\n",
        "\n",
        "We will use a vectorstore to create embeddings for each tool description. Then, for an incoming query we can create embeddings for that query and do a similarity search for relevant tools.\n"
      ]
    },
    {
      "cell_type": "code",
      "execution_count": null,
      "id": "3c8a4956",
      "metadata": {},
      "outputs": [],
      "source": [
        "from plugnplai import get_plugins, PluginRetriever\n",
        "\n",
        "# Get working plugins from plugnplai.com\n",
        "urls = get_plugins(filter = 'working')\n",
        "\n",
        "# Initialize the plugin_retriever\n",
        "plugin_retriever = PluginRetriever.from_urls(urls)"
      ]
    },
    {
      "cell_type": "markdown",
      "id": "FAA45e2Z6JZI",
      "metadata": {
        "id": "FAA45e2Z6JZI"
      },
      "source": [
        "## Define LangChain Agent with PluginsRetriever"
      ]
    },
    {
      "cell_type": "markdown",
      "id": "V0SK-Pk4y-w2",
      "metadata": {
        "id": "V0SK-Pk4y-w2"
      },
      "source": [
        "Add plugin_retriever to LangChain Tools to call the custom retrieved APIs"
      ]
    },
    {
      "cell_type": "code",
      "execution_count": null,
      "id": "5yVgfYRETCPG",
      "metadata": {
        "colab": {
          "base_uri": "https://localhost:8080/"
        },
        "id": "5yVgfYRETCPG",
        "outputId": "9a2b3f88-9dfd-4ee5-b2f8-0d43c6308a56"
      },
      "outputs": [
        {
          "name": "stderr",
          "output_type": "stream",
          "text": [
            "WARNING:langchain.tools.openapi.utils.openapi_utils:Attempting to load a Swagger 2.0 spec.  This may result in degraded performance. Convert your OpenAPI spec to 3.1.* spec for better support.\n",
            "WARNING:langchain.tools.openapi.utils.openapi_utils:Attempting to load an OpenAPI 3.0.1 spec.  This may result in degraded performance. Convert your OpenAPI spec to 3.1.* spec for better support.\n",
            "WARNING:langchain.tools.openapi.utils.openapi_utils:Attempting to load an OpenAPI 3.0.1 spec.  This may result in degraded performance. Convert your OpenAPI spec to 3.1.* spec for better support.\n",
            "WARNING:langchain.tools.openapi.utils.openapi_utils:Attempting to load an OpenAPI 3.0.2 spec.  This may result in degraded performance. Convert your OpenAPI spec to 3.1.* spec for better support.\n",
            "WARNING:langchain.tools.openapi.utils.openapi_utils:Attempting to load an OpenAPI 3.0.1 spec.  This may result in degraded performance. Convert your OpenAPI spec to 3.1.* spec for better support.\n",
            "WARNING:langchain.tools.openapi.utils.openapi_utils:Attempting to load an OpenAPI 3.0.1 spec.  This may result in degraded performance. Convert your OpenAPI spec to 3.1.* spec for better support.\n",
            "WARNING:langchain.tools.openapi.utils.openapi_utils:Attempting to load an OpenAPI 3.0.1 spec.  This may result in degraded performance. Convert your OpenAPI spec to 3.1.* spec for better support.\n",
            "WARNING:langchain.tools.openapi.utils.openapi_utils:Attempting to load an OpenAPI 3.0.2 spec.  This may result in degraded performance. Convert your OpenAPI spec to 3.1.* spec for better support.\n",
            "WARNING:langchain.tools.openapi.utils.openapi_utils:Attempting to load an OpenAPI 3.0.1 spec.  This may result in degraded performance. Convert your OpenAPI spec to 3.1.* spec for better support.\n",
            "WARNING:langchain.tools.openapi.utils.openapi_utils:Attempting to load an OpenAPI 3.0.1 spec.  This may result in degraded performance. Convert your OpenAPI spec to 3.1.* spec for better support.\n",
            "WARNING:langchain.tools.openapi.utils.openapi_utils:Attempting to load an OpenAPI 3.0.1 spec.  This may result in degraded performance. Convert your OpenAPI spec to 3.1.* spec for better support.\n"
          ]
        }
      ],
      "source": [
        "from langchain.agents import Tool, AgentExecutor, LLMSingleActionAgent, AgentOutputParser\n",
        "from langchain.prompts import StringPromptTemplate\n",
        "from langchain import OpenAI, SerpAPIWrapper, LLMChain\n",
        "from typing import List, Union\n",
        "from langchain.schema import AgentAction, AgentFinish\n",
        "from langchain.agents.agent_toolkits import NLAToolkit\n",
        "from langchain.tools.plugin import AIPlugin\n",
        "import re\n",
        "\n",
        "# Load LangChain AIPlugin Objects  \n",
        "AI_PLUGINS = [AIPlugin.from_url(url + \"/.well-known/ai-plugin.json\") for url in urls]\n",
        "\n",
        "# Define llm\n",
        "llm = OpenAI(temperature=0)\n",
        "\n",
        "toolkits_dict = {plugin.name_for_model: \n",
        "                 NLAToolkit.from_llm_and_ai_plugin(llm, plugin)\n",
        "                 for plugin in AI_PLUGINS}\n",
        "\n",
        "def get_tools(query):\n",
        "    # Get documents, which contain the Plugins to use\n",
        "    docs = plugin_retriever.retrieve_names(query)\n",
        "    # Get the toolkits, one for each plugin\n",
        "    tool_kits = [toolkits_dict[d] for d in docs]\n",
        "    # Get the tools: a separate NLAChain for each endpoint\n",
        "    tools = []\n",
        "    for tk in tool_kits:\n",
        "        tools.extend(tk.nla_tools)\n",
        "    return tools"
      ]
    },
    {
      "cell_type": "markdown",
      "id": "7699afd7",
      "metadata": {
        "id": "7699afd7"
      },
      "source": [
        "\n",
        "We can now test this retriever to see if it seems to work."
      ]
    },
    {
      "cell_type": "code",
      "execution_count": null,
      "id": "425f2886",
      "metadata": {
        "colab": {
          "base_uri": "https://localhost:8080/"
        },
        "id": "425f2886",
        "outputId": "30d1b826-0ac4-46c5-8ebd-dab0f51f49fb"
      },
      "outputs": [
        {
          "data": {
            "text/plain": [
              "['Milo.askMilo',\n",
              " 'Zapier_Natural_Language_Actions_(NLA)_API_(Dynamic)_-_Beta.search_all_actions',\n",
              " 'Zapier_Natural_Language_Actions_(NLA)_API_(Dynamic)_-_Beta.preview_a_zap',\n",
              " 'Zapier_Natural_Language_Actions_(NLA)_API_(Dynamic)_-_Beta.get_configuration_link',\n",
              " 'Zapier_Natural_Language_Actions_(NLA)_API_(Dynamic)_-_Beta.list_exposed_actions',\n",
              " 'Zapier_Natural_Language_Actions_(NLA)_API_(Dynamic)_-_Beta.get_execution_log_endpoint',\n",
              " 'SchoolDigger_API_V2.0.Autocomplete_GetSchools',\n",
              " 'SchoolDigger_API_V2.0.Districts_GetAllDistricts2',\n",
              " 'SchoolDigger_API_V2.0.Districts_GetDistrict2',\n",
              " 'SchoolDigger_API_V2.0.Rankings_GetSchoolRank2',\n",
              " 'SchoolDigger_API_V2.0.Rankings_GetRank_District',\n",
              " 'SchoolDigger_API_V2.0.Schools_GetAllSchools20',\n",
              " 'SchoolDigger_API_V2.0.Schools_GetSchool20',\n",
              " 'Open_AI_Klarna_product_Api.productsUsingGET']"
            ]
          },
          "execution_count": 20,
          "metadata": {},
          "output_type": "execute_result"
        }
      ],
      "source": [
        "tools = get_tools(\"what could I do today with my kiddo\")\n",
        "[t.name for t in tools]"
      ]
    },
    {
      "cell_type": "code",
      "execution_count": null,
      "id": "3aa88768",
      "metadata": {
        "colab": {
          "base_uri": "https://localhost:8080/"
        },
        "id": "3aa88768",
        "outputId": "1b9099cf-d59b-4122-8b6d-ae160159d1d7"
      },
      "outputs": [
        {
          "data": {
            "text/plain": [
              "['Open_AI_Klarna_product_Api.productsUsingGET',\n",
              " 'Milo.askMilo',\n",
              " 'Zapier_Natural_Language_Actions_(NLA)_API_(Dynamic)_-_Beta.search_all_actions',\n",
              " 'Zapier_Natural_Language_Actions_(NLA)_API_(Dynamic)_-_Beta.preview_a_zap',\n",
              " 'Zapier_Natural_Language_Actions_(NLA)_API_(Dynamic)_-_Beta.get_configuration_link',\n",
              " 'Zapier_Natural_Language_Actions_(NLA)_API_(Dynamic)_-_Beta.list_exposed_actions',\n",
              " 'Zapier_Natural_Language_Actions_(NLA)_API_(Dynamic)_-_Beta.get_execution_log_endpoint',\n",
              " 'SchoolDigger_API_V2.0.Autocomplete_GetSchools',\n",
              " 'SchoolDigger_API_V2.0.Districts_GetAllDistricts2',\n",
              " 'SchoolDigger_API_V2.0.Districts_GetDistrict2',\n",
              " 'SchoolDigger_API_V2.0.Rankings_GetSchoolRank2',\n",
              " 'SchoolDigger_API_V2.0.Rankings_GetRank_District',\n",
              " 'SchoolDigger_API_V2.0.Schools_GetAllSchools20',\n",
              " 'SchoolDigger_API_V2.0.Schools_GetSchool20']"
            ]
          },
          "execution_count": 21,
          "metadata": {},
          "output_type": "execute_result"
        }
      ],
      "source": [
        "tools = get_tools(\"what shirts can i buy?\")\n",
        "[t.name for t in tools]"
      ]
    },
    {
      "cell_type": "markdown",
      "id": "2e7a075c",
      "metadata": {
        "id": "2e7a075c"
      },
      "source": [
        "## Prompt Template\n",
        "\n",
        "The prompt template is pretty standard, because we're not actually changing that much logic in the actual prompt template, but rather we are just changing how retrieval is done."
      ]
    },
    {
      "cell_type": "code",
      "execution_count": null,
      "id": "339b1bb8",
      "metadata": {
        "id": "339b1bb8"
      },
      "outputs": [],
      "source": [
        "# Set up the base template\n",
        "template = \"\"\"Answer the following questions as best you can, but speaking as a pirate might speak. You have access to the following tools:\n",
        "\n",
        "{tools}\n",
        "\n",
        "Use the following format:\n",
        "\n",
        "Question: the input question you must answer\n",
        "Thought: you should always think about what to do\n",
        "Action: the action to take, should be one of [{tool_names}]\n",
        "Action Input: the input to the action\n",
        "Observation: the result of the action\n",
        "... (this Thought/Action/Action Input/Observation can repeat N times)\n",
        "Thought: I now know the final answer\n",
        "Final Answer: the final answer to the original input question\n",
        "\n",
        "Begin! Remember to speak as a pirate when giving your final answer. Use lots of \"Arg\"s\n",
        "\n",
        "Question: {input}\n",
        "{agent_scratchpad}\"\"\""
      ]
    },
    {
      "cell_type": "markdown",
      "id": "1583acdc",
      "metadata": {
        "id": "1583acdc"
      },
      "source": [
        "The custom prompt template now has the concept of a tools_getter, which we call on the input to select the tools to use"
      ]
    },
    {
      "cell_type": "code",
      "execution_count": null,
      "id": "fd969d31",
      "metadata": {
        "id": "fd969d31"
      },
      "outputs": [],
      "source": [
        "from typing import Callable\n",
        "# Set up a prompt template\n",
        "class CustomPromptTemplate(StringPromptTemplate):\n",
        "    # The template to use\n",
        "    template: str\n",
        "    ############## NEW ######################\n",
        "    # The list of tools available\n",
        "    tools_getter: Callable\n",
        "    \n",
        "    def format(self, **kwargs) -> str:\n",
        "        # Get the intermediate steps (AgentAction, Observation tuples)\n",
        "        # Format them in a particular way\n",
        "        intermediate_steps = kwargs.pop(\"intermediate_steps\")\n",
        "        thoughts = \"\"\n",
        "        for action, observation in intermediate_steps:\n",
        "            thoughts += action.log\n",
        "            thoughts += f\"\\nObservation: {observation}\\nThought: \"\n",
        "        # Set the agent_scratchpad variable to that value\n",
        "        kwargs[\"agent_scratchpad\"] = thoughts\n",
        "        ############## NEW ######################\n",
        "        tools = self.tools_getter(kwargs[\"input\"])\n",
        "        # Create a tools variable from the list of tools provided\n",
        "        kwargs[\"tools\"] = \"\\n\".join([f\"{tool.name}: {tool.description}\" for tool in tools])\n",
        "        # Create a list of tool names for the tools provided\n",
        "        kwargs[\"tool_names\"] = \", \".join([tool.name for tool in tools])\n",
        "        return self.template.format(**kwargs)"
      ]
    },
    {
      "cell_type": "code",
      "execution_count": null,
      "id": "798ef9fb",
      "metadata": {
        "id": "798ef9fb"
      },
      "outputs": [],
      "source": [
        "prompt = CustomPromptTemplate(\n",
        "    template=template,\n",
        "    tools_getter=get_tools,\n",
        "    # This omits the `agent_scratchpad`, `tools`, and `tool_names` variables because those are generated dynamically\n",
        "    # This includes the `intermediate_steps` variable because that is needed\n",
        "    input_variables=[\"input\", \"intermediate_steps\"]\n",
        ")"
      ]
    },
    {
      "cell_type": "markdown",
      "id": "ef3a1af3",
      "metadata": {
        "id": "ef3a1af3"
      },
      "source": [
        "## Output Parser\n",
        "\n",
        "The output parser is unchanged from the previous notebook, since we are not changing anything about the output format."
      ]
    },
    {
      "cell_type": "code",
      "execution_count": null,
      "id": "7c6fe0d3",
      "metadata": {
        "id": "7c6fe0d3"
      },
      "outputs": [],
      "source": [
        "class CustomOutputParser(AgentOutputParser):\n",
        "    \n",
        "    def parse(self, llm_output: str) -> Union[AgentAction, AgentFinish]:\n",
        "        # Check if agent should finish\n",
        "        if \"Final Answer:\" in llm_output:\n",
        "            return AgentFinish(\n",
        "                # Return values is generally always a dictionary with a single `output` key\n",
        "                # It is not recommended to try anything else at the moment :)\n",
        "                return_values={\"output\": llm_output.split(\"Final Answer:\")[-1].strip()},\n",
        "                log=llm_output,\n",
        "            )\n",
        "        # Parse out the action and action input\n",
        "        regex = r\"Action\\s*\\d*\\s*:(.*?)\\nAction\\s*\\d*\\s*Input\\s*\\d*\\s*:[\\s]*(.*)\"\n",
        "        match = re.search(regex, llm_output, re.DOTALL)\n",
        "        if not match:\n",
        "            raise ValueError(f\"Could not parse LLM output: `{llm_output}`\")\n",
        "        action = match.group(1).strip()\n",
        "        action_input = match.group(2)\n",
        "        # Return the action and action input\n",
        "        return AgentAction(tool=action, tool_input=action_input.strip(\" \").strip('\"'), log=llm_output)"
      ]
    },
    {
      "cell_type": "code",
      "execution_count": null,
      "id": "d278706a",
      "metadata": {
        "id": "d278706a"
      },
      "outputs": [],
      "source": [
        "output_parser = CustomOutputParser()"
      ]
    },
    {
      "cell_type": "markdown",
      "id": "170587b1",
      "metadata": {
        "id": "170587b1"
      },
      "source": [
        "## Set up LLM, stop sequence, and the agent\n",
        "\n",
        "Also the same as the previous notebook"
      ]
    },
    {
      "cell_type": "code",
      "execution_count": null,
      "id": "f9d4c374",
      "metadata": {
        "id": "f9d4c374"
      },
      "outputs": [],
      "source": [
        "llm = OpenAI(temperature=0)"
      ]
    },
    {
      "cell_type": "code",
      "execution_count": null,
      "id": "9b1cc2a2",
      "metadata": {
        "id": "9b1cc2a2"
      },
      "outputs": [],
      "source": [
        "# LLM chain consisting of the LLM and a prompt\n",
        "llm_chain = LLMChain(llm=llm, prompt=prompt)"
      ]
    },
    {
      "cell_type": "code",
      "execution_count": null,
      "id": "e4f5092f",
      "metadata": {
        "id": "e4f5092f"
      },
      "outputs": [],
      "source": [
        "tool_names = [tool.name for tool in tools]\n",
        "agent = LLMSingleActionAgent(\n",
        "    llm_chain=llm_chain, \n",
        "    output_parser=output_parser,\n",
        "    stop=[\"\\nObservation:\"], \n",
        "    allowed_tools=tool_names\n",
        ")"
      ]
    },
    {
      "cell_type": "markdown",
      "id": "aa8a5326",
      "metadata": {
        "id": "aa8a5326"
      },
      "source": [
        "## Use the Agent\n",
        "\n",
        "Now we can use it!"
      ]
    },
    {
      "cell_type": "code",
      "execution_count": null,
      "id": "490604e9",
      "metadata": {
        "id": "490604e9"
      },
      "outputs": [],
      "source": [
        "agent_executor = AgentExecutor.from_agent_and_tools(agent=agent, tools=tools, verbose=True)"
      ]
    },
    {
      "cell_type": "code",
      "execution_count": null,
      "id": "653b1617",
      "metadata": {
        "colab": {
          "base_uri": "https://localhost:8080/",
          "height": 270
        },
        "id": "653b1617",
        "outputId": "8aecd179-ba86-4121-f9aa-f784738a275c"
      },
      "outputs": [
        {
          "name": "stdout",
          "output_type": "stream",
          "text": [
            "\n",
            "\n",
            "\u001b[1m> Entering new AgentExecutor chain...\u001b[0m\n",
            "\u001b[32;1m\u001b[1;3mThought: I need to find a product API\n",
            "Action: Open_AI_Klarna_product_Api.productsUsingGET\n",
            "Action Input: shirts\u001b[0m\n",
            "\n",
            "Observation:\u001b[36;1m\u001b[1;3mI found 10 shirts from the API response. They range in price from $13.94 to $491.00 and come in a variety of materials, sizes, colors, and styles.\u001b[0m\n",
            "\u001b[32;1m\u001b[1;3m I now know the final answer\n",
            "Final Answer: Arg, ye can buy any of these 10 shirts from the Open AI Klarna product API.\u001b[0m\n",
            "\n",
            "\u001b[1m> Finished chain.\u001b[0m\n"
          ]
        },
        {
          "data": {
            "application/vnd.google.colaboratory.intrinsic+json": {
              "type": "string"
            },
            "text/plain": [
              "'Arg, ye can buy any of these 10 shirts from the Open AI Klarna product API.'"
            ]
          },
          "execution_count": 19,
          "metadata": {},
          "output_type": "execute_result"
        }
      ],
      "source": [
        "agent_executor.run(\"what shirts can i buy?\")"
      ]
    }
  ],
  "metadata": {
    "colab": {
      "provenance": []
    },
    "kernelspec": {
      "display_name": "Python 3 (ipykernel)",
      "language": "python",
      "name": "python3"
    },
    "language_info": {
      "codemirror_mode": {
        "name": "ipython",
        "version": 3
      },
      "file_extension": ".py",
      "mimetype": "text/x-python",
      "name": "python",
      "nbconvert_exporter": "python",
      "pygments_lexer": "ipython3",
      "version": "3.10.6"
    },
    "vscode": {
      "interpreter": {
        "hash": "3ccef4e08d87aa1eeb90f63e0f071292ccb2e9c42e70f74ab2bf6f5493ca7bbc"
      }
    }
  },
  "nbformat": 4,
  "nbformat_minor": 5
}
