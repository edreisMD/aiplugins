{
  "cells": [
    {
      "cell_type": "markdown",
      "metadata": {
        "id": "xXnd1cCu1TkJ"
      },
      "source": [
        "# Add Plugins Step by Step - using PlugnPlai and LangChain\n",
        "\n",
        "[![Open In Colab](https://colab.research.google.com/assets/colab-badge.svg)](https://colab.research.google.com/github/edreisMD/plugnplai/blob/main/examples/plugins_step_by_step.ipynb)\n",
        "\n",
        "The goal of this example is to go through all the steps to add plugins to LLMs\n",
        "1. Get plugins of certain categories from [plugnplai.com](https://plugnplai.com)\n",
        "2. Load plugins manifest and specifications\n",
        "3. Parse specifications and generate a prompt with the descriptions\n",
        "4. Use [LangChain]() to call the LLM\n",
        "5. Parse the LLM response, looking for the `[API]` pattern defined on `plugins.prompt`\n",
        "6. Call the plugin using `plugins.call()`\n",
        "7. Use LangChain again to ask the LLM a final response using the new data"
      ]
    },
    {
      "cell_type": "markdown",
      "metadata": {
        "id": "OZWQil8RrAKV"
      },
      "source": [
        "## Install"
      ]
    },
    {
      "cell_type": "code",
      "execution_count": 1,
      "metadata": {
        "colab": {
          "base_uri": "https://localhost:8080/"
        },
        "id": "7RUcr3tLEK7M",
        "outputId": "2aa31e20-4106-4048-c34c-b468f10fff56"
      },
      "outputs": [
        {
          "name": "stdout",
          "output_type": "stream",
          "text": [
            "\u001b[2K     \u001b[90m━━━━━━━━━━━━━━━━━━━━━━━━━━━━━━━━━━━━━━━━\u001b[0m \u001b[32m17.6/17.6 MB\u001b[0m \u001b[31m16.7 MB/s\u001b[0m eta \u001b[36m0:00:00\u001b[0m\n",
            "\u001b[2K     \u001b[90m━━━━━━━━━━━━━━━━━━━━━━━━━━━━━━━━━━━━━━━\u001b[0m \u001b[32m756.3/756.3 kB\u001b[0m \u001b[31m9.0 MB/s\u001b[0m eta \u001b[36m0:00:00\u001b[0m\n",
            "\u001b[2K     \u001b[90m━━━━━━━━━━━━━━━━━━━━━━━━━━━━━━━━━━━━━━━━\u001b[0m \u001b[32m71.9/71.9 kB\u001b[0m \u001b[31m1.7 MB/s\u001b[0m eta \u001b[36m0:00:00\u001b[0m\n",
            "\u001b[2K     \u001b[90m━━━━━━━━━━━━━━━━━━━━━━━━━━━━━━━━━━━━━━━━\u001b[0m \u001b[32m62.5/62.5 kB\u001b[0m \u001b[31m2.0 MB/s\u001b[0m eta \u001b[36m0:00:00\u001b[0m\n",
            "\u001b[2K     \u001b[90m━━━━━━━━━━━━━━━━━━━━━━━━━━━━━━━━━━━━━━━━\u001b[0m \u001b[32m1.7/1.7 MB\u001b[0m \u001b[31m41.9 MB/s\u001b[0m eta \u001b[36m0:00:00\u001b[0m\n",
            "\u001b[2K     \u001b[90m━━━━━━━━━━━━━━━━━━━━━━━━━━━━━━━━━━━━━━━━\u001b[0m \u001b[32m1.0/1.0 MB\u001b[0m \u001b[31m17.0 MB/s\u001b[0m eta \u001b[36m0:00:00\u001b[0m\n",
            "\u001b[2K     \u001b[90m━━━━━━━━━━━━━━━━━━━━━━━━━━━━━━━━━━━━━━━━\u001b[0m \u001b[32m90.0/90.0 kB\u001b[0m \u001b[31m5.3 MB/s\u001b[0m eta \u001b[36m0:00:00\u001b[0m\n",
            "\u001b[2K     \u001b[90m━━━━━━━━━━━━━━━━━━━━━━━━━━━━━━━━━━━━━━━\u001b[0m \u001b[32m114.5/114.5 kB\u001b[0m \u001b[31m4.4 MB/s\u001b[0m eta \u001b[36m0:00:00\u001b[0m\n",
            "\u001b[2K     \u001b[90m━━━━━━━━━━━━━━━━━━━━━━━━━━━━━━━━━━━━━━━\u001b[0m \u001b[32m268.8/268.8 kB\u001b[0m \u001b[31m11.0 MB/s\u001b[0m eta \u001b[36m0:00:00\u001b[0m\n",
            "\u001b[2K     \u001b[90m━━━━━━━━━━━━━━━━━━━━━━━━━━━━━━━━━━━━━━━━\u001b[0m \u001b[32m149.6/149.6 kB\u001b[0m \u001b[31m8.4 MB/s\u001b[0m eta \u001b[36m0:00:00\u001b[0m\n",
            "\u001b[2K     \u001b[90m━━━━━━━━━━━━━━━━━━━━━━━━━━━━━━━━━━━━━━━━\u001b[0m \u001b[32m49.1/49.1 kB\u001b[0m \u001b[31m2.6 MB/s\u001b[0m eta \u001b[36m0:00:00\u001b[0m\n",
            "\u001b[?25h"
          ]
        }
      ],
      "source": [
        "pip install plugnplai -q"
      ]
    },
    {
      "cell_type": "markdown",
      "metadata": {
        "id": "7fYY9i4Z3sBO"
      },
      "source": [
        "## Get the plugins"
      ]
    },
    {
      "cell_type": "markdown",
      "metadata": {
        "id": "nlC-9wyp2vtF"
      },
      "source": [
        "We want to install at maximum three plugins, in order to fit the description on the context length\n",
        "\n",
        "Lets find one plugin for each category:\n",
        "1. travel\n",
        "2. shopping \n",
        "3. weather\n",
        "\n",
        "We can use PlugnPlai categories (see [API reference](https://plugnplai.github.io/))"
      ]
    },
    {
      "cell_type": "code",
      "execution_count": 1,
      "metadata": {
        "colab": {
          "base_uri": "https://localhost:8080/"
        },
        "id": "MmqqHyg5Eee0",
        "outputId": "33e028f9-003f-41c1-f9d0-acfcc4fd1fdd"
      },
      "outputs": [
        {
          "name": "stdout",
          "output_type": "stream",
          "text": [
            "Travel plugins: ['https://llmsearch.endpoint.getyourguide.com', 'https://gogaffl.com', 'https://trip.com', 'https://api.yelp.com', 'https://gps-telecom.com']\n",
            "Shopping plugins: ['https://gptshop.bohita.com', 'https://lexi-shopping-assistant-chatgpt-plugin.iamnazzty.repl.co', 'https://pricerunner.com', 'https://server.shop.app', 'https://klarna.com']\n",
            "Weather plugins: ['https://api.speak.com']\n"
          ]
        }
      ],
      "source": [
        "import plugnplai as pl\n",
        "\n",
        "# Get working plugins - only tested plugins (in progress)\n",
        "urlsTravel = pl.get_plugins(category='travel')\n",
        "print(f'Travel plugins: {urlsTravel}')\n",
        "\n",
        "urlsShopping = pl.get_plugins(category='shopping')\n",
        "print(f'Shopping plugins: {urlsShopping}')\n",
        "\n",
        "urlsLan = pl.get_plugins(category='language')\n",
        "print(f'Weather plugins: {urlsLan}')"
      ]
    },
    {
      "cell_type": "code",
      "execution_count": 3,
      "metadata": {
        "colab": {
          "base_uri": "https://localhost:8080/"
        },
        "id": "81MK5G3aJ6pA",
        "outputId": "fb8239c9-315f-4ffe-df34-3acbce69e429"
      },
      "outputs": [
        {
          "name": "stdout",
          "output_type": "stream",
          "text": [
            "Our chosen Plugins: ['https://trip.com', 'https://klarna.com', 'https://api.speak.com']\n"
          ]
        }
      ],
      "source": [
        "# Lets pick one of each list and add to our url list\n",
        "\n",
        "urls = []\n",
        "\n",
        "# Trip (list index 1)\n",
        "urls.append([plugin for plugin in urlsTravel if 'trip' in plugin][0])\n",
        "\n",
        "# Klarna (list index 2)\n",
        "urls.append([plugin for plugin in urlsShopping if 'klarna' in plugin][0])\n",
        "\n",
        "# Speak (list index 0)\n",
        "urls.append([plugin for plugin in urlsLan if 'speak' in plugin][0])\n",
        "\n",
        "print(f'Our chosen Plugins: {urls}')"
      ]
    },
    {
      "cell_type": "markdown",
      "metadata": {
        "id": "hj5MtCaPyk9p"
      },
      "source": [
        "## Load and activate the plugins"
      ]
    },
    {
      "cell_type": "code",
      "execution_count": 4,
      "metadata": {
        "id": "JMHi1UTpy8LV"
      },
      "outputs": [],
      "source": [
        "from plugnplai import Plugins\n",
        "\n",
        "plugins = Plugins.install_and_activate(urls)"
      ]
    },
    {
      "cell_type": "markdown",
      "metadata": {
        "id": "2-alHvKpyk9q"
      },
      "source": [
        "## Print the default prompt for the active plugins"
      ]
    },
    {
      "cell_type": "code",
      "execution_count": 5,
      "metadata": {
        "colab": {
          "base_uri": "https://localhost:8080/"
        },
        "id": "g770AOGZ0vwH",
        "outputId": "739138b3-e6f7-460d-9d5a-0837fc2f3594"
      },
      "outputs": [
        {
          "name": "stdout",
          "output_type": "stream",
          "text": [
            "\n",
            "# SYSTEM MESSAGE\n",
            "You are a large language model trained to assist humans.\n",
            "Knowledge Cutoff: 2021-09\n",
            "Current date: 2023-05-13\n",
            "Below is a list of available APIs that you can utilize to fulfill user requests. \n",
            "When using an API, please follow the specified format to make the API call. \n",
            "If possible, avoid asking follow-up questions and aim to complete the task with the information provided by the user.\n",
            "\n",
            "To make an API call, use the following format:\n",
            "\n",
            "[API]namespace.operationId[/API]\n",
            "[PARAMS]{ \n",
            "    \"parameter_name\": \"parameter_value\",\n",
            "    ...\n",
            "}[/PARAMS]\n",
            "\n",
            "For example, to call an API operation with the operation ID \"productsUsingGET\" in the \"KlarnaProducts\" namespace, \n",
            "and provide the required parameters \"q\" and \"size\", the format would be as follows:\n",
            "\n",
            "[API]KlarnaProducts.productsUsingGET[/API]\n",
            "[PARAMS]{\n",
            "    \"q\": \"t-shirt\", \n",
            "    \"size\": 3\n",
            "}[/PARAMS]\n",
            "\n",
            "Please ensure that you use the correct namespace and operation ID, and provide the necessary parameters for each API call. \n",
            "After requesting the API, refrain from writing anything else and wait for the API response, which will be delivered in a new message.\n",
            "\n",
            "## Plugins description\n",
            "\n",
            "### Plugin 1\n",
            "// Plugin for users to effortlessly get customized travel product recommendation and itinerary planning including hotels and flights using chatGPT.\n",
            "namespace Trip {\n",
            "\n",
            "operationId search_flight_ticket = (_: {'originCityCode'*: 'str', 'destinationCityCode'*: 'str', 'departureDate'*: 'str', 'returnDate'*: 'str', 'locale'*: 'str', 'oneWayOrRoundTrip'*: 'str'}) => any\n",
            "\n",
            "operationId search_hotel = (_: {'cityName'*: 'str', 'topHotel'*: 'int', 'locale'*: 'str', 'checkIn'*: 'any', 'checkOut'*: 'any'}) => any}\n",
            "\n",
            "### Plugin 2\n",
            "// Assistant uses the Klarna plugin to get relevant product suggestions for any shopping or product discovery purpose. Assistant will reply with the following 3 paragraphs 1) Search Results 2) Product Comparison of the Search Results 3) Followup Questions. The first paragraph contains a list of the products with their attributes listed clearly and concisely as bullet points under the product, together with a link to the product and an explanation. Links will always be returned and should be shown to the user. The second paragraph compares the results returned in a summary sentence starting with \"In summary\". Assistant comparisons consider only the most important features of the products that will help them fit the users request, and each product mention is brief, short and concise. In the third paragraph assistant always asks helpful follow-up questions and end with a question mark. When assistant is asking a follow-up question, it uses it's product expertise to provide information pertaining to the subject of the user's request that may guide them in their search for the right product.\n",
            "namespace KlarnaProducts {\n",
            "\n",
            "operationId productsUsingGET = (_: {'q'*: 'str', 'size': 'int', 'min_price': 'int', 'max_price': 'int'}) => any}\n",
            "\n",
            "### Plugin 3\n",
            "// # Prompt 20230322\n",
            "\n",
            "Use the Speak plugin when the user asks a question about another language, like: how to say something specific, how to do something, what a particular foreign word or phrase means, or a concept/nuance specific to a foreign language or culture.\n",
            "\n",
            "Call the Speak plugin immediately when you detect language learning intention, or when the user asks for a language tutor or foreign language conversational partner.\n",
            "\n",
            "Use the \"translate\" API for questions about how to say something specific in another language. Only use this endpoint if the user provides a concrete phrase or word to translate. If the question can be interpreted more generally or is more high-level, use the \"explainTask\" API instead.\n",
            "Examples: \"how do i say 'do you know what time it is?' politely in German\", \"say 'do you have any vegetarian dishes?' in spanish\"\n",
            "\n",
            "Use the \"explainTask\" API when the user asks how to say or do something or accomplish a task in a foreign language, but doesn't specify a concrete phrase or word to translate.\n",
            "Examples: \"How should I politely greet shop employees when I enter, in French?\" or \"How do I compliment someone in Spanish on their shirt?\"\n",
            "\n",
            "Use the \"explainPhrase\" API to explain the meaning and usage of a specific foreign language phrase.\n",
            "Example: \"what does putain mean in french?\"\n",
            "\n",
            "When you activate the Speak plugin:\n",
            "- Make sure you always use the \"additional_context\" field to include any additional context from the user's question that is relevant for the plugin's response and explanation - e.g. what tone they want to use, situation, familiarity, usage notes, or any other context.\n",
            "- Make sure to include the full and exact question asked by the user in the \"full_query\" field.\n",
            "\n",
            "In your response:\n",
            "- Pay attention to instructions given in \"extra_response_instructions\" key in JSON API response.\n",
            "\n",
            "namespace speak {\n",
            "\n",
            "operationId translate = (_: {'phrase_to_translate'*: 'str', 'learning_language'*: 'str', 'native_language'*: 'str', 'additional_context'*: 'str', 'full_query'*: 'str'}) => any\n",
            "\n",
            "operationId explainPhrase = (_: {'foreign_phrase'*: 'str', 'learning_language'*: 'str', 'native_language'*: 'str', 'additional_context'*: 'str', 'full_query'*: 'str'}) => any\n",
            "\n",
            "operationId explainTask = (_: {'task_description'*: 'str', 'learning_language'*: 'str', 'native_language'*: 'str', 'additional_context'*: 'str', 'full_query'*: 'str'}) => any}\n",
            "\n",
            "\n",
            "# USER MESSAGE\n",
            "\n"
          ]
        }
      ],
      "source": [
        "print(plugins.prompt)"
      ]
    },
    {
      "cell_type": "markdown",
      "metadata": {
        "id": "8Z_WvLZ5yk9q"
      },
      "source": [
        "## Lets look at the length of the prompt\n",
        "\n",
        "Get the number of tokens of the prompt by just calling 'plugins.tokens' "
      ]
    },
    {
      "cell_type": "code",
      "execution_count": 6,
      "metadata": {
        "colab": {
          "base_uri": "https://localhost:8080/"
        },
        "id": "jnFld3xszdrx",
        "outputId": "f932658d-5104-45bf-d482-e2257fbefff7"
      },
      "outputs": [
        {
          "name": "stdout",
          "output_type": "stream",
          "text": [
            "1212\n"
          ]
        }
      ],
      "source": [
        "print(plugins.tokens)"
      ]
    },
    {
      "cell_type": "markdown",
      "metadata": {
        "id": "ikGFVxvPyk9q"
      },
      "source": [
        "## Call the LLM using LangChain"
      ]
    },
    {
      "cell_type": "code",
      "execution_count": 8,
      "metadata": {
        "id": "QTKMtRiMyk9r"
      },
      "outputs": [],
      "source": [
        "# You will need to first define your API key\n",
        "import os\n",
        "os.environ[\"OPENAI_API_KEY\"] = \"YOUR_OPENAI_KEY\""
      ]
    },
    {
      "cell_type": "code",
      "execution_count": 9,
      "metadata": {
        "id": "1DBpvvbfyk9r"
      },
      "outputs": [],
      "source": [
        "from langchain.chat_models import ChatOpenAI\n",
        "from langchain.prompts.chat import ChatPromptTemplate, SystemMessagePromptTemplate, AIMessagePromptTemplate, HumanMessagePromptTemplate\n",
        "from langchain.schema import AIMessage, HumanMessage, SystemMessage"
      ]
    },
    {
      "cell_type": "markdown",
      "metadata": {
        "id": "N1C-RZvUyk9r"
      },
      "source": [
        "#### Uncomment or modify the message to test different plugins"
      ]
    },
    {
      "cell_type": "code",
      "execution_count": 20,
      "metadata": {
        "id": "EFc4Xw3Dyk9r"
      },
      "outputs": [],
      "source": [
        "# Test Klarna Plugin\n",
        "# HUMAN_MESSAGE = \"I want to buy a rolling stones t-shirt\"\n",
        "\n",
        "# Test Trip Plugin\n",
        "HUMAN_MESSAGE = \"I need a hotel in Paris between Dec.3-8\"\n",
        "\n",
        "# Test Speak Plugin\n",
        "# HUMAN_MESSAGE = \"How to say I love you in Portuguese?\""
      ]
    },
    {
      "cell_type": "markdown",
      "metadata": {
        "id": "z-JDpX0Uyk9r"
      },
      "source": [
        "#### Call LLM"
      ]
    },
    {
      "cell_type": "code",
      "execution_count": 21,
      "metadata": {
        "colab": {
          "base_uri": "https://localhost:8080/"
        },
        "id": "1S5B0ibJyk9r",
        "outputId": "3172b8b0-a148-4366-b153-061c6994c711"
      },
      "outputs": [
        {
          "name": "stdout",
          "output_type": "stream",
          "text": [
            "[API]Trip.search_hotel[/API]\n",
            "[PARAMS]{\n",
            "    \"cityName\": \"Paris\",\n",
            "    \"topHotel\": 5,\n",
            "    \"locale\": \"en\",\n",
            "    \"checkIn\": \"2023-12-03\",\n",
            "    \"checkOut\": \"2023-12-08\"\n",
            "}[/PARAMS]\n"
          ]
        }
      ],
      "source": [
        "chat = ChatOpenAI(temperature=0, model=\"gpt-4\")\n",
        "\n",
        "messages = [\n",
        "    SystemMessage(content=plugins.prompt),\n",
        "    HumanMessage(content=HUMAN_MESSAGE)\n",
        "]\n",
        "\n",
        "res = chat(messages)\n",
        "\n",
        "llm_first_response = res.content\n",
        "\n",
        "print(llm_first_response)"
      ]
    },
    {
      "cell_type": "markdown",
      "metadata": {
        "id": "J6dRUL_iyk9r"
      },
      "source": [
        "## Parse the LLM response"
      ]
    },
    {
      "cell_type": "code",
      "execution_count": 23,
      "metadata": {
        "colab": {
          "base_uri": "https://localhost:8080/"
        },
        "id": "g86d1vRVyk9r",
        "outputId": "36d81e51-d4c7-41f9-a855-a4484c2e3d53"
      },
      "outputs": [
        {
          "name": "stdout",
          "output_type": "stream",
          "text": [
            "{'plugin_name': 'Trip', 'operation_id': 'search_hotel', 'parameters': {'cityName': 'Paris', 'topHotel': 5, 'locale': 'en', 'checkIn': '2023-12-03', 'checkOut': '2023-12-08'}}\n"
          ]
        }
      ],
      "source": [
        "# import the parser function\n",
        "from plugnplai import parse_llm_response\n",
        "\n",
        "# Parse the LLM response importing '\n",
        "call_dict = parse_llm_response(llm_first_response)\n",
        "print(call_dict)"
      ]
    },
    {
      "cell_type": "markdown",
      "metadata": {
        "id": "DFJ0P-WXyk9r"
      },
      "source": [
        "## Call Plugin"
      ]
    },
    {
      "cell_type": "code",
      "execution_count": 24,
      "metadata": {
        "colab": {
          "base_uri": "https://localhost:8080/"
        },
        "id": "hbGKKzrbyk9r",
        "outputId": "516f75b6-5b0c-4b7a-e8b8-da641ab97fc2"
      },
      "outputs": [
        {
          "data": {
            "text/plain": [
              "{'hotelList': [{'hotelName': 'Le Tsuba Hotel',\n",
              "   'hotelDescription': '',\n",
              "   'hotelPrice': 295.0,\n",
              "   'hotelCurrency': 'USD',\n",
              "   'hotelLink': 'https://us.trip.com/hotels/detail/?cityId=192&hotelId=6597288&checkin=2023-12-03&checkout=2023-12-08&curr=USD',\n",
              "   'hotelAddress': '45 Rue des Acacias',\n",
              "   'openYear': '2017',\n",
              "   'renovationYear': '2017',\n",
              "   'score': '4.6/5.0',\n",
              "   'numberOfReviews': 36,\n",
              "   'numberOfFavorites': 'Saved by 4115 person',\n",
              "   'star': 4,\n",
              "   'hotelFeatureTagList': ['桑拿', '健身室']},\n",
              "  {'hotelName': 'Pullman Paris Centre - Bercy',\n",
              "   'hotelDescription': '',\n",
              "   'hotelPrice': 262.0,\n",
              "   'hotelCurrency': 'USD',\n",
              "   'hotelLink': 'https://us.trip.com/hotels/detail/?cityId=192&hotelId=2107175&checkin=2023-12-03&checkout=2023-12-08&curr=USD',\n",
              "   'hotelAddress': '1 Rue de Libourne',\n",
              "   'openYear': '2000',\n",
              "   'renovationYear': '2007',\n",
              "   'score': '4.5/5.0',\n",
              "   'numberOfReviews': 42,\n",
              "   'numberOfFavorites': 'Saved by 3731 person',\n",
              "   'star': 4,\n",
              "   'hotelFeatureTagList': ['泳池', '儿童乐园']},\n",
              "  {'hotelName': 'Pullman Paris Tour Eiffel',\n",
              "   'hotelDescription': '',\n",
              "   'hotelPrice': 298.0,\n",
              "   'hotelCurrency': 'USD',\n",
              "   'hotelLink': 'https://us.trip.com/hotels/detail/?cityId=192&hotelId=2081163&checkin=2023-12-03&checkout=2023-12-08&curr=USD',\n",
              "   'hotelAddress': '18 Avenue De Suffren, 22 Rue Jean Rey Entrée Au',\n",
              "   'openYear': '1964',\n",
              "   'renovationYear': '2014',\n",
              "   'score': '4.2/5.0',\n",
              "   'numberOfReviews': 111,\n",
              "   'numberOfFavorites': 'Saved by 7384 person',\n",
              "   'star': 4,\n",
              "   'hotelFeatureTagList': ['健身室', '多功能厅']},\n",
              "  {'hotelName': 'Hotel de Castiglione Paris',\n",
              "   'hotelDescription': '',\n",
              "   'hotelPrice': 221.0,\n",
              "   'hotelCurrency': 'USD',\n",
              "   'hotelLink': 'https://us.trip.com/hotels/detail/?cityId=192&hotelId=2157992&checkin=2023-12-03&checkout=2023-12-08&curr=USD',\n",
              "   'hotelAddress': '38-40 Rue du Faubourg Saint-Honoré',\n",
              "   'openYear': '1932',\n",
              "   'renovationYear': '2021',\n",
              "   'score': '3.9/5.0',\n",
              "   'numberOfReviews': 49,\n",
              "   'numberOfFavorites': 'Saved by 6056 person',\n",
              "   'star': 4,\n",
              "   'hotelFeatureTagList': ['茶室', '会议厅']},\n",
              "  {'hotelName': 'Hotel de Crillon A Rosewood Hotel',\n",
              "   'hotelDescription': '',\n",
              "   'hotelPrice': 1673.0,\n",
              "   'hotelCurrency': 'USD',\n",
              "   'hotelLink': 'https://us.trip.com/hotels/detail/?cityId=192&hotelId=1619850&checkin=2023-12-03&checkout=2023-12-08&curr=USD',\n",
              "   'hotelAddress': '10 Pl. de la Concorde',\n",
              "   'openYear': None,\n",
              "   'renovationYear': '2017',\n",
              "   'score': '4.7/5.0',\n",
              "   'numberOfReviews': 7,\n",
              "   'numberOfFavorites': 'Saved by 2002 person',\n",
              "   'star': 5,\n",
              "   'hotelFeatureTagList': ['日光浴场', '桑拿']}]}"
            ]
          },
          "execution_count": 24,
          "metadata": {},
          "output_type": "execute_result"
        }
      ],
      "source": [
        "r = plugins.call_api(plugin_name = call_dict['plugin_name'], \n",
        "                    operation_id = call_dict['operation_id'], \n",
        "                    parameters = call_dict['parameters']\n",
        "                    )\n",
        "\n",
        "api_response = r.json()\n",
        "r.json()"
      ]
    },
    {
      "cell_type": "markdown",
      "metadata": {
        "id": "Ts_SUlHzyk9r"
      },
      "source": [
        "## LLM responds using the API data"
      ]
    },
    {
      "cell_type": "code",
      "execution_count": 25,
      "metadata": {
        "colab": {
          "base_uri": "https://localhost:8080/"
        },
        "id": "faIEWpfEyk9r",
        "outputId": "7a070f67-460b-4022-c15c-491acdfff53b"
      },
      "outputs": [
        {
          "name": "stdout",
          "output_type": "stream",
          "text": [
            "I found 5 hotels in Paris for your stay between December 3rd and December 8th. Here are the top options:\n",
            "\n",
            "1. [Le Tsuba Hotel](https://us.trip.com/hotels/detail/?cityId=192&hotelId=6597288&checkin=2023-12-03&checkout=2023-12-08&curr=USD)\n",
            "   - Address: 45 Rue des Acacias\n",
            "   - Price: $295 per night\n",
            "   - Rating: 4.6/5.0\n",
            "   - Features: Sauna, Fitness Room\n",
            "\n",
            "2. [Pullman Paris Centre - Bercy](https://us.trip.com/hotels/detail/?cityId=192&hotelId=2107175&checkin=2023-12-03&checkout=2023-12-08&curr=USD)\n",
            "   - Address: 1 Rue de Libourne\n",
            "   - Price: $262 per night\n",
            "   - Rating: 4.5/5.0\n",
            "   - Features: Swimming Pool, Children's Playground\n",
            "\n",
            "3. [Pullman Paris Tour Eiffel](https://us.trip.com/hotels/detail/?cityId=192&hotelId=2081163&checkin=2023-12-03&checkout=2023-12-08&curr=USD)\n",
            "   - Address: 18 Avenue De Suffren, 22 Rue Jean Rey Entrée Au\n",
            "   - Price: $298 per night\n",
            "   - Rating: 4.2/5.0\n",
            "   - Features: Fitness Room, Multi-function Hall\n",
            "\n",
            "4. [Hotel de Castiglione Paris](https://us.trip.com/hotels/detail/?cityId=192&hotelId=2157992&checkin=2023-12-03&checkout=2023-12-08&curr=USD)\n",
            "   - Address: 38-40 Rue du Faubourg Saint-Honoré\n",
            "   - Price: $221 per night\n",
            "   - Rating: 3.9/5.0\n",
            "   - Features: Tea Room, Conference Hall\n",
            "\n",
            "5. [Hotel de Crillon A Rosewood Hotel](https://us.trip.com/hotels/detail/?cityId=192&hotelId=1619850&checkin=2023-12-03&checkout=2023-12-08&curr=USD)\n",
            "   - Address: 10 Pl. de la Concorde\n",
            "   - Price: $1673 per night\n",
            "   - Rating: 4.7/5.0\n",
            "   - Features: Sunbathing Area, Sauna\n",
            "\n",
            "Please note that prices and availability are subject to change. Make sure to book your preferred hotel as soon as possible to secure your reservation.\n"
          ]
        }
      ],
      "source": [
        "api_return_prompt = f\"\"\"\n",
        "Assistant is a large language model with access to plugins.\n",
        "\n",
        "Assistant called a plugin in response to this human message:\n",
        "# HUMAN MESSAGE\n",
        "{HUMAN_MESSAGE}\n",
        "\n",
        "# API REQUEST SUMMARY\n",
        "{llm_first_response}\n",
        "\n",
        "# API RESPONSE\n",
        "{api_response}\n",
        "\"\"\"\n",
        "\n",
        "# Install the plugins ewith the original template\n",
        "plugins = Plugins.install_and_activate(urls)\n",
        "\n",
        "chat = ChatOpenAI(temperature=0, model=\"gpt-4\")\n",
        "# chat = ChatOpenAI(temperature=0, model=\"gpt-3.5-turbo\")\n",
        "\n",
        "messages = [\n",
        "    SystemMessage(content=api_return_prompt),\n",
        "    HumanMessage(content=\"HUMAN_MESSAGE\")\n",
        "]\n",
        "\n",
        "res = chat(messages)\n",
        "\n",
        "print(res.content)"
      ]
    },
    {
      "cell_type": "markdown",
      "metadata": {
        "id": "NaUEAkfjyk9s"
      },
      "source": [
        "## Lets copy the response to a markdown cell:"
      ]
    },
    {
      "cell_type": "markdown",
      "metadata": {
        "id": "ob6tOP5Dyk9s"
      },
      "source": [
        "I found 5 hotels in Paris for your stay between December 3rd and December 8th. Here are the top options:\n",
        "\n",
        "1. [Le Tsuba Hotel](https://us.trip.com/hotels/detail/?cityId=192&hotelId=6597288&checkin=2023-12-03&checkout=2023-12-08&curr=USD)\n",
        "   - Address: 45 Rue des Acacias\n",
        "   - Price: $295 per night\n",
        "   - Rating: 4.6/5.0\n",
        "   - Features: Sauna, Fitness Room\n",
        "\n",
        "2. [Pullman Paris Centre - Bercy](https://us.trip.com/hotels/detail/?cityId=192&hotelId=2107175&checkin=2023-12-03&checkout=2023-12-08&curr=USD)\n",
        "   - Address: 1 Rue de Libourne\n",
        "   - Price: $262 per night\n",
        "   - Rating: 4.5/5.0\n",
        "   - Features: Swimming Pool, Children's Playground\n",
        "\n",
        "3. [Pullman Paris Tour Eiffel](https://us.trip.com/hotels/detail/?cityId=192&hotelId=2081163&checkin=2023-12-03&checkout=2023-12-08&curr=USD)\n",
        "   - Address: 18 Avenue De Suffren, 22 Rue Jean Rey Entrée Au\n",
        "   - Price: $298 per night\n",
        "   - Rating: 4.2/5.0\n",
        "   - Features: Fitness Room, Multi-function Hall\n",
        "\n",
        "4. [Hotel de Castiglione Paris](https://us.trip.com/hotels/detail/?cityId=192&hotelId=2157992&checkin=2023-12-03&checkout=2023-12-08&curr=USD)\n",
        "   - Address: 38-40 Rue du Faubourg Saint-Honoré\n",
        "   - Price: $221 per night\n",
        "   - Rating: 3.9/5.0\n",
        "   - Features: Tea Room, Conference Hall\n",
        "\n",
        "5. [Hotel de Crillon A Rosewood Hotel](https://us.trip.com/hotels/detail/?cityId=192&hotelId=1619850&checkin=2023-12-03&checkout=2023-12-08&curr=USD)\n",
        "   - Address: 10 Pl. de la Concorde\n",
        "   - Price: $1673 per night\n",
        "   - Rating: 4.7/5.0\n",
        "   - Features: Sunbathing Area, Sauna\n",
        "\n",
        "Please note that prices and availability are subject to change. Make sure to book your preferred hotel as soon as possible to secure your reservation."
      ]
    },
    {
      "cell_type": "code",
      "execution_count": null,
      "metadata": {
        "id": "bgerDt1d0CnW"
      },
      "outputs": [],
      "source": []
    }
  ],
  "metadata": {
    "colab": {
      "provenance": []
    },
    "kernelspec": {
      "display_name": "Python 3.10.8 ('env': venv)",
      "language": "python",
      "name": "python3"
    },
    "language_info": {
      "codemirror_mode": {
        "name": "ipython",
        "version": 3
      },
      "file_extension": ".py",
      "mimetype": "text/x-python",
      "name": "python",
      "nbconvert_exporter": "python",
      "pygments_lexer": "ipython3",
      "version": "3.10.8"
    },
    "vscode": {
      "interpreter": {
        "hash": "db088be0df81f10a0d149836483f30eb6911268c99c8cd2461b5be70fec9cf57"
      }
    }
  },
  "nbformat": 4,
  "nbformat_minor": 0
}
